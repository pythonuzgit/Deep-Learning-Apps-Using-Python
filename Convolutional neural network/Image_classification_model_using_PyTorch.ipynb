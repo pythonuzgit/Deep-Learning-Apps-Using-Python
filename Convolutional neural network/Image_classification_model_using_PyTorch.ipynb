{
  "nbformat": 4,
  "nbformat_minor": 0,
  "metadata": {
    "colab": {
      "name": "Image classification model using PyTorch.ipynb",
      "provenance": [],
      "authorship_tag": "ABX9TyNRQuCIAcJpPGY6MDnLGNb+",
      "include_colab_link": true
    },
    "kernelspec": {
      "name": "python3",
      "display_name": "Python 3"
    },
    "language_info": {
      "name": "python"
    },
    "accelerator": "GPU"
  },
  "cells": [
    {
      "cell_type": "markdown",
      "metadata": {
        "id": "view-in-github",
        "colab_type": "text"
      },
      "source": [
        "<a href=\"https://colab.research.google.com/github/pythonuzgit/Deep-Learning-Apps-Using-Python/blob/master/Convolutional%20neural%20network/Image_classification_model_using_PyTorch.ipynb\" target=\"_parent\"><img src=\"https://colab.research.google.com/assets/colab-badge.svg\" alt=\"Open In Colab\"/></a>"
      ]
    },
    {
      "cell_type": "code",
      "metadata": {
        "id": "LDC9XkaORMAq"
      },
      "source": [
        ""
      ],
      "execution_count": null,
      "outputs": []
    },
    {
      "cell_type": "code",
      "metadata": {
        "id": "x78-7XwS7HbV"
      },
      "source": [
        ""
      ],
      "execution_count": null,
      "outputs": []
    },
    {
      "cell_type": "code",
      "metadata": {
        "colab": {
          "resources": {
            "http://localhost:8080/nbextensions/google.colab/files.js": {
              "data": "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",
              "ok": true,
              "headers": [
                [
                  "content-type",
                  "application/javascript"
                ]
              ],
              "status": 200,
              "status_text": "OK"
            }
          },
          "base_uri": "https://localhost:8080/",
          "height": 92
        },
        "id": "dVjqct-a7HVZ",
        "outputId": "ffcc5bfa-5b8f-491b-ec5c-6c828430b208"
      },
      "source": [
        "from google.colab import files\n",
        "files.upload()"
      ],
      "execution_count": null,
      "outputs": [
        {
          "output_type": "display_data",
          "data": {
            "text/html": [
              "\n",
              "     <input type=\"file\" id=\"files-305bcf4c-7330-4dc5-b055-1ac28056a989\" name=\"files[]\" multiple disabled\n",
              "        style=\"border:none\" />\n",
              "     <output id=\"result-305bcf4c-7330-4dc5-b055-1ac28056a989\">\n",
              "      Upload widget is only available when the cell has been executed in the\n",
              "      current browser session. Please rerun this cell to enable.\n",
              "      </output>\n",
              "      <script src=\"/nbextensions/google.colab/files.js\"></script> "
            ],
            "text/plain": [
              "<IPython.core.display.HTML object>"
            ]
          },
          "metadata": {
            "tags": []
          }
        },
        {
          "output_type": "stream",
          "text": [
            "Saving kaggle.json to kaggle.json\n"
          ],
          "name": "stdout"
        },
        {
          "output_type": "execute_result",
          "data": {
            "text/plain": [
              "{'kaggle.json': b'{\"username\":\"uzazam\",\"key\":\"7abb2778b77e603b3a87069f481fc6a6\"}'}"
            ]
          },
          "metadata": {
            "tags": []
          },
          "execution_count": 1
        }
      ]
    },
    {
      "cell_type": "code",
      "metadata": {
        "id": "0n02RJKD7LcS"
      },
      "source": [
        "!mkdir -p ~/.kaggle\n",
        "!cp kaggle.json ~/.kaggle/\n",
        "\n",
        "#change the permission\n",
        "\n",
        "!chmod 600 ~/.kaggle/kaggle.json"
      ],
      "execution_count": null,
      "outputs": []
    },
    {
      "cell_type": "code",
      "metadata": {
        "colab": {
          "base_uri": "https://localhost:8080/"
        },
        "id": "v-kCFzHl7LYt",
        "outputId": "3bd0e963-0e21-4aea-925d-28125a0e1460"
      },
      "source": [
        "!kaggle datasets download -d aadityasinghal/facial-expression-dataset"
      ],
      "execution_count": null,
      "outputs": [
        {
          "output_type": "stream",
          "text": [
            "Downloading facial-expression-dataset.zip to /content\n",
            " 96% 58.0M/60.7M [00:00<00:00, 69.0MB/s]\n",
            "100% 60.7M/60.7M [00:00<00:00, 104MB/s] \n"
          ],
          "name": "stdout"
        }
      ]
    },
    {
      "cell_type": "code",
      "metadata": {
        "colab": {
          "base_uri": "https://localhost:8080/"
        },
        "id": "1xP-gDSe7LTM",
        "outputId": "1752c69e-ceb8-4ed7-ef02-0f85306ef650"
      },
      "source": [
        "from zipfile import ZipFile\n",
        "file_name = \"/content/facial-expression-dataset.zip\"\n",
        "with ZipFile(file_name, 'r') as zip:\n",
        "  zip.extractall()\n",
        "  print('Done')"
      ],
      "execution_count": null,
      "outputs": [
        {
          "output_type": "stream",
          "text": [
            "Done\n"
          ],
          "name": "stdout"
        }
      ]
    },
    {
      "cell_type": "code",
      "metadata": {
        "id": "iwiksH_l8LQr"
      },
      "source": [
        "import os\n",
        "import numpy as np\n",
        "import pandas as pd\n",
        "import matplotlib.pyplot as plt\n",
        "import torch\n",
        "import glob\n",
        "import torch.nn as nn\n",
        "from torchvision.transforms import transforms\n",
        "from torch.utils.data import DataLoader\n",
        "from torch.optim import Adam\n",
        "from torch.autograd import Variable\n",
        "import torchvision\n",
        "import pathlib"
      ],
      "execution_count": null,
      "outputs": []
    },
    {
      "cell_type": "code",
      "metadata": {
        "id": "pe6qwDg76qJA"
      },
      "source": [
        "dev = torch.device(\"cuda\") if torch.cuda.is_available() else torch.device(\"cpu\")"
      ],
      "execution_count": null,
      "outputs": []
    },
    {
      "cell_type": "code",
      "metadata": {
        "id": "_FRu0upb6qG_",
        "colab": {
          "base_uri": "https://localhost:8080/"
        },
        "outputId": "59b08e7f-a3b0-419a-b34a-0ccf906b38d1"
      },
      "source": [
        "print(dev)"
      ],
      "execution_count": null,
      "outputs": [
        {
          "output_type": "stream",
          "text": [
            "cuda\n"
          ],
          "name": "stdout"
        }
      ]
    },
    {
      "cell_type": "markdown",
      "metadata": {
        "id": "GNuyliPC9wFo"
      },
      "source": [
        "Transforms"
      ]
    },
    {
      "cell_type": "code",
      "metadata": {
        "id": "VLrGUyUK8kyN"
      },
      "source": [
        "transformer = transforms.Compose([\n",
        "                                  transforms.Resize((150, 150)),\n",
        "                                  transforms.RandomHorizontalFlip(),\n",
        "                                  transforms.ToTensor(),\n",
        "                                  transforms.Normalize([0.5, 0.5, 0.5],\n",
        "                                                       [0.5, 0.5, 0.5])\n",
        "])"
      ],
      "execution_count": null,
      "outputs": []
    },
    {
      "cell_type": "markdown",
      "metadata": {
        "id": "uscj8CKw-b0w"
      },
      "source": [
        "DataLoader"
      ]
    },
    {
      "cell_type": "code",
      "metadata": {
        "id": "8z2omMfX8ko-"
      },
      "source": [
        "#Path for trainig and testing directory\n",
        "\n",
        "train_path = '/content/train/train'\n",
        "test_path = '/content/test/test'\n",
        "\n",
        "train_loader = DataLoader(\n",
        "    torchvision.datasets.ImageFolder(train_path, transform = transformer),\n",
        "    batch_size = 256, shuffle = True\n",
        ")\n",
        "\n",
        "test_loader = DataLoader(\n",
        "    torchvision.datasets.ImageFolder(test_path, transform = transformer),\n",
        "    batch_size = 256, shuffle = True\n",
        ")"
      ],
      "execution_count": null,
      "outputs": []
    },
    {
      "cell_type": "markdown",
      "metadata": {
        "id": "ib1hP9xw_Wdv"
      },
      "source": [
        "categories"
      ]
    },
    {
      "cell_type": "code",
      "metadata": {
        "colab": {
          "base_uri": "https://localhost:8080/"
        },
        "id": "drgKWOjk8kZU",
        "outputId": "fcf7e60a-d656-4f92-9937-c83b08b42de4"
      },
      "source": [
        "root = pathlib.Path(train_path)\n",
        "classes = sorted([j.name.split('/')[-1]\n",
        "                  for j in root.iterdir()])\n",
        "\n",
        "print(classes)"
      ],
      "execution_count": null,
      "outputs": [
        {
          "output_type": "stream",
          "text": [
            "['angry', 'disgust', 'fear', 'happy', 'neutral', 'sad', 'surprise']\n"
          ],
          "name": "stdout"
        }
      ]
    },
    {
      "cell_type": "markdown",
      "metadata": {
        "id": "euhjWblKHDP7"
      },
      "source": [
        "CNN Network"
      ]
    },
    {
      "cell_type": "code",
      "metadata": {
        "id": "t9u_QAZ2HCV2"
      },
      "source": [
        "class ConvNet(nn.Module):\n",
        "  def __init__(self, num_classes = 6):\n",
        "    super(ConvNet, self).__init__()\n",
        "\n",
        "    #Output size after convolutional filter\n",
        "    #((w - f + 2*P)/ s) + 1\n",
        "\n",
        "    #input shape = (256, 3, 150, 150)\n",
        "\n",
        "    self.conv1 = nn.Conv2d(in_channels = 3, out_channels = 12, kernel_size = 3,\n",
        "                           stride = 1, padding = 1)\n",
        "    \n",
        "    #Shape = (256, 12, 150, 150)\n",
        "\n",
        "    self.bn1 = nn.BatchNorm2d(num_features = 12)\n",
        "\n",
        "    #Shape = (256, 12, 150, 150)\n",
        "\n",
        "    self.relu1 = nn.ReLU()\n",
        "\n",
        "    #Shape = (256, 12, 150, 150)\n",
        "\n",
        "    self.pool = nn.MaxPool2d(kernel_size = 2)\n",
        "\n",
        "    #Reduce the image size be factor 2\n",
        "    #Shape = (256, 12, 75, 75)\n",
        "\n",
        "    self.conv2 = nn.Conv2d(in_channels = 12, out_channels = 20, kernel_size = 3,\n",
        "                           stride = 1, padding = 1)\n",
        "    \n",
        "    #Shape = (256, 20, 150, 150)\n",
        "\n",
        "    self.relu2 = nn.ReLU()\n",
        "\n",
        "    #Shape = (256, 20, 75, 75)\n",
        "\n",
        "    self.conv3 = nn.Conv2d(in_channels = 20, out_channels = 32,\n",
        "                           kernel_size = 3, stride = 1, padding = 1)\n",
        "\n",
        "    #Shape = (256, 32, 75, 75)\n",
        "\n",
        "    self.bn3 = nn.BatchNorm2d(num_features = 32)\n",
        "\n",
        "    #Shape = (256, 32, 75, 75)\n",
        "\n",
        "    self.relu3 = nn.ReLU()\n",
        "\n",
        "    #Shape = (256, 32, 75, 75)\n",
        "\n",
        "    self.fc = nn.Linear(in_features = 32*75*75, out_features = num_classes)\n",
        "\n",
        "  def forward(self, input):\n",
        "    output = self.conv1(input)\n",
        "    output = self.bn1(output)\n",
        "    output = self.relu1(output)\n",
        "\n",
        "    output = self.pool(output)\n",
        "\n",
        "    output = self.conv2(output)\n",
        "    output = self.relu2(output)\n",
        "\n",
        "    output = self.conv3(output)\n",
        "    output = self.bn3(output)\n",
        "    output = self.relu3(output)\n",
        "\n",
        "    output = output.view(-1, 32 * 75 * 75)\n",
        "\n",
        "    output = self.fc(output)\n",
        "    return output"
      ],
      "execution_count": null,
      "outputs": []
    },
    {
      "cell_type": "code",
      "metadata": {
        "id": "tkXzFk5AHVse"
      },
      "source": [
        "model = ConvNet(num_classes = 7)\n",
        "model = model.cuda()"
      ],
      "execution_count": null,
      "outputs": []
    },
    {
      "cell_type": "markdown",
      "metadata": {
        "id": "eYMmufbkHhGZ"
      },
      "source": [
        "Optimizer and loss function"
      ]
    },
    {
      "cell_type": "code",
      "metadata": {
        "id": "J7is1CRTHmmh"
      },
      "source": [
        "optimizer = Adam(model.parameters(), lr = 0.001, weight_decay = 0.0001)\n",
        "\n",
        "loss_function = nn.CrossEntropyLoss()"
      ],
      "execution_count": null,
      "outputs": []
    },
    {
      "cell_type": "code",
      "metadata": {
        "id": "MIzZCkD4H7w4"
      },
      "source": [
        "num_epochs = 20"
      ],
      "execution_count": null,
      "outputs": []
    },
    {
      "cell_type": "markdown",
      "metadata": {
        "id": "Fi5MJEreH_uA"
      },
      "source": [
        "Calculating the size of training and testing images"
      ]
    },
    {
      "cell_type": "code",
      "metadata": {
        "id": "ZQzJbFtZIgqu"
      },
      "source": [
        "train_count = len(glob.glob(train_path + '/**/*.jpg'))\n",
        "test_count = len(glob.glob(test_path + '/**/*.jpg'))"
      ],
      "execution_count": null,
      "outputs": []
    },
    {
      "cell_type": "code",
      "metadata": {
        "colab": {
          "base_uri": "https://localhost:8080/"
        },
        "id": "XGlQELKwIgpn",
        "outputId": "8e14a876-a132-493d-e1f0-f610db7b5953"
      },
      "source": [
        "print(train_count, test_count)"
      ],
      "execution_count": null,
      "outputs": [
        {
          "output_type": "stream",
          "text": [
            "28709 7178\n"
          ],
          "name": "stdout"
        }
      ]
    },
    {
      "cell_type": "markdown",
      "metadata": {
        "id": "UqGKRp7VI-tU"
      },
      "source": [
        "Model training and saving best model"
      ]
    },
    {
      "cell_type": "code",
      "metadata": {
        "colab": {
          "base_uri": "https://localhost:8080/"
        },
        "id": "8FkLZywMI9P9",
        "outputId": "25190181-c511-4acd-cc63-1f06b4c461e8"
      },
      "source": [
        "best_accuracy = 0.0\n",
        "\n",
        "for epoch in range(num_epochs):\n",
        "  model.train()\n",
        "  train_accuracy = 0.0\n",
        "  train_loss = 0.0\n",
        "\n",
        "  for i, (images, labels) in enumerate(train_loader):\n",
        "    if torch.cuda.is_available:\n",
        "      images = Variable(images.cuda())\n",
        "      labels = Variable(labels.cuda())\n",
        "\n",
        "    optimizer.zero_grad()\n",
        "    outputs = model(images)\n",
        "    loss = loss_function(outputs, labels)\n",
        "    loss.backward()\n",
        "    optimizer.step()\n",
        "\n",
        "    train_loss += loss.cpu().data * images.size(0)\n",
        "    _, prediction = torch.max(outputs.data, 1)\n",
        "    train_accuracy += int(torch.sum(prediction == labels.data))\n",
        "\n",
        "  train_accuracy = train_accuracy/train_count\n",
        "  train_loss = train_loss/train_count\n",
        "\n",
        "  model.eval()\n",
        "\n",
        "  test_accuracy = 0.0\n",
        "\n",
        "  for i, (images, labels) in enumerate(test_loader):\n",
        "    if torch.cuda.is_available:\n",
        "      images = Variable(images.cuda())\n",
        "      labels = Variable(labels.cuda())\n",
        "\n",
        "    outputs = model(images)\n",
        "    _, prediction = torch.max(outputs.data, 1)\n",
        "    test_accuracy += int(torch.sum(prediction == labels.data))\n",
        "\n",
        "\n",
        "  test_accuracy = test_accuracy/test_count\n",
        "\n",
        "\n",
        "  print('Epoch: '+str(epoch)+' Train loss: '+str(int(train_loss))+' Train Accuracy: '+str(train_accuracy)+' Test Accuracy: '+str(test_accuracy))\n",
        "\n",
        "\n",
        "  #Save the best model\n",
        "\n",
        "  if test_accuracy>best_accuracy:\n",
        "    torch.save(model.state_dict(), 'best_checkpoint.model')\n",
        "    best_accuracy = test_accuracy    \n"
      ],
      "execution_count": null,
      "outputs": [
        {
          "output_type": "stream",
          "text": [
            "/usr/local/lib/python3.7/dist-packages/torch/nn/functional.py:718: UserWarning: Named tensors and all their associated APIs are an experimental feature and subject to change. Please do not use them for anything important until they are released as stable. (Triggered internally at  /pytorch/c10/core/TensorImpl.h:1156.)\n",
            "  return torch.max_pool2d(input, kernel_size, stride, padding, dilation, ceil_mode)\n"
          ],
          "name": "stderr"
        },
        {
          "output_type": "stream",
          "text": [
            "Epoch: 0 Train loss: 11 Train Accuracy: 0.2686265630986799 Test Accuracy: 0.23808860406798552\n",
            "Epoch: 1 Train loss: 1 Train Accuracy: 0.37078964784562335 Test Accuracy: 0.35135135135135137\n",
            "Epoch: 2 Train loss: 1 Train Accuracy: 0.4352642028632136 Test Accuracy: 0.36040679855112845\n",
            "Epoch: 3 Train loss: 1 Train Accuracy: 0.4802675119300568 Test Accuracy: 0.404151574254667\n",
            "Epoch: 4 Train loss: 1 Train Accuracy: 0.523076387195653 Test Accuracy: 0.387712454722764\n",
            "Epoch: 5 Train loss: 1 Train Accuracy: 0.5460656936849072 Test Accuracy: 0.44524937308442464\n",
            "Epoch: 6 Train loss: 1 Train Accuracy: 0.5838587202619387 Test Accuracy: 0.42323767066035106\n",
            "Epoch: 7 Train loss: 1 Train Accuracy: 0.6226618830331951 Test Accuracy: 0.36388966285873503\n",
            "Epoch: 8 Train loss: 0 Train Accuracy: 0.6429691037653698 Test Accuracy: 0.3959320144887155\n",
            "Epoch: 9 Train loss: 0 Train Accuracy: 0.6738305061130656 Test Accuracy: 0.4604346614655893\n",
            "Epoch: 10 Train loss: 0 Train Accuracy: 0.717754014420565 Test Accuracy: 0.4357759821677347\n",
            "Epoch: 11 Train loss: 0 Train Accuracy: 0.7424152704726741 Test Accuracy: 0.4193368626358317\n",
            "Epoch: 12 Train loss: 0 Train Accuracy: 0.7596572503396147 Test Accuracy: 0.41125661744218445\n",
            "Epoch: 13 Train loss: 0 Train Accuracy: 0.7869657598662441 Test Accuracy: 0.39816104764558374\n",
            "Epoch: 14 Train loss: 0 Train Accuracy: 0.8130203072207322 Test Accuracy: 0.3966285873502368\n",
            "Epoch: 15 Train loss: 0 Train Accuracy: 0.8246194573130378 Test Accuracy: 0.4502646976873781\n",
            "Epoch: 16 Train loss: 0 Train Accuracy: 0.8503605141244905 Test Accuracy: 0.43494009473390915\n",
            "Epoch: 17 Train loss: 0 Train Accuracy: 0.8809084259291511 Test Accuracy: 0.4264419058233491\n",
            "Epoch: 18 Train loss: 0 Train Accuracy: 0.8790274826709394 Test Accuracy: 0.43494009473390915\n",
            "Epoch: 19 Train loss: 0 Train Accuracy: 0.8843916541850988 Test Accuracy: 0.44315965449986067\n"
          ],
          "name": "stdout"
        }
      ]
    },
    {
      "cell_type": "code",
      "metadata": {
        "colab": {
          "base_uri": "https://localhost:8080/"
        },
        "id": "DIM6ATfnBZcj",
        "outputId": "06db68a1-9dbc-41f7-b8ef-cc2b2fd9f292"
      },
      "source": [
        "checkpoint = torch.load('/content/best_checkpoint.model')\n",
        "model = ConvNet(num_classes = 7)\n",
        "model = model.cuda()\n",
        "model.load_state_dict(checkpoint)\n",
        "model.eval()"
      ],
      "execution_count": null,
      "outputs": [
        {
          "output_type": "execute_result",
          "data": {
            "text/plain": [
              "ConvNet(\n",
              "  (conv1): Conv2d(3, 12, kernel_size=(3, 3), stride=(1, 1), padding=(1, 1))\n",
              "  (bn1): BatchNorm2d(12, eps=1e-05, momentum=0.1, affine=True, track_running_stats=True)\n",
              "  (relu1): ReLU()\n",
              "  (pool): MaxPool2d(kernel_size=2, stride=2, padding=0, dilation=1, ceil_mode=False)\n",
              "  (conv2): Conv2d(12, 20, kernel_size=(3, 3), stride=(1, 1), padding=(1, 1))\n",
              "  (relu2): ReLU()\n",
              "  (conv3): Conv2d(20, 32, kernel_size=(3, 3), stride=(1, 1), padding=(1, 1))\n",
              "  (bn3): BatchNorm2d(32, eps=1e-05, momentum=0.1, affine=True, track_running_stats=True)\n",
              "  (relu3): ReLU()\n",
              "  (fc): Linear(in_features=180000, out_features=7, bias=True)\n",
              ")"
            ]
          },
          "metadata": {
            "tags": []
          },
          "execution_count": 18
        }
      ]
    },
    {
      "cell_type": "markdown",
      "metadata": {
        "id": "MJPx1d55CcKP"
      },
      "source": [
        "Transforms"
      ]
    },
    {
      "cell_type": "code",
      "metadata": {
        "id": "9mfXghRmCgad"
      },
      "source": [
        "transformer = transforms. Compose([\n",
        "                                   transforms.Resize((150, 150)),\n",
        "                                   transforms.ToTensor(),\n",
        "                                   transforms.Normalize([0.5, 0.5, 0.5],\n",
        "                                                        [0.5, 0.5, 0.5])\n",
        "])"
      ],
      "execution_count": null,
      "outputs": []
    },
    {
      "cell_type": "markdown",
      "metadata": {
        "id": "PMC-9jD2DKmq"
      },
      "source": [
        "Prediction Function"
      ]
    },
    {
      "cell_type": "code",
      "metadata": {
        "id": "8lkFIKp1DIiW"
      },
      "source": [
        "def prediction(img_path, transformer):\n",
        "  image = Image.open(img_path)\n",
        "  image_tensor = transformer(image).float()\n",
        "  image_tensor = image_tensor.unsqueenze_(0)\n",
        "\n",
        "  if torch.cuda.is_available():\n",
        "    image_tensor.cuda()\n",
        "\n",
        "\n",
        "  input = Variable(image_tensor)\n",
        "\n",
        "  output = model(input)\n",
        "  index = output.data.numpy().argmax()\n",
        "  pred = classes[index]\n",
        "  return pred  "
      ],
      "execution_count": null,
      "outputs": []
    },
    {
      "cell_type": "code",
      "metadata": {
        "id": "LaLAHFtIEhqU"
      },
      "source": [
        "images_path = glob.glob(test_path + '/*.jpg')"
      ],
      "execution_count": null,
      "outputs": []
    },
    {
      "cell_type": "code",
      "metadata": {
        "colab": {
          "base_uri": "https://localhost:8080/"
        },
        "id": "913Mx1eKFunJ",
        "outputId": "27e48e6e-df9c-43d6-92bf-3a44381f28a9"
      },
      "source": [
        "print(images_path)"
      ],
      "execution_count": null,
      "outputs": [
        {
          "output_type": "stream",
          "text": [
            "[]\n"
          ],
          "name": "stdout"
        }
      ]
    },
    {
      "cell_type": "code",
      "metadata": {
        "id": "98DfIkY9LLt6"
      },
      "source": [
        "pred_dict = {}\n",
        "for i in images_path:\n",
        "  pred_dict[i[i.rfind('/') + 1:]] = prediction(i, transformer)"
      ],
      "execution_count": null,
      "outputs": []
    },
    {
      "cell_type": "code",
      "metadata": {
        "colab": {
          "base_uri": "https://localhost:8080/"
        },
        "id": "0gJ2OfNlMA9y",
        "outputId": "84396a6b-2b94-4914-aec0-ed7eb505bc62"
      },
      "source": [
        "pred_dict"
      ],
      "execution_count": null,
      "outputs": [
        {
          "output_type": "execute_result",
          "data": {
            "text/plain": [
              "{}"
            ]
          },
          "metadata": {
            "tags": []
          },
          "execution_count": 28
        }
      ]
    }
  ]
}