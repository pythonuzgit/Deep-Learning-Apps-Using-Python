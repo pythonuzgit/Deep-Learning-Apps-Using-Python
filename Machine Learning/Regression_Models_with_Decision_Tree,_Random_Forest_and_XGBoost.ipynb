{
  "nbformat": 4,
  "nbformat_minor": 0,
  "metadata": {
    "colab": {
      "name": "Regression Models with Decision Tree, Random Forest and XGBoost.ipynb",
      "provenance": [],
      "authorship_tag": "ABX9TyMxKR7XQWtoy0CzpZZCRYDf",
      "include_colab_link": true
    },
    "kernelspec": {
      "name": "python3",
      "display_name": "Python 3"
    },
    "language_info": {
      "name": "python"
    }
  },
  "cells": [
    {
      "cell_type": "markdown",
      "metadata": {
        "id": "view-in-github",
        "colab_type": "text"
      },
      "source": [
        "<a href=\"https://colab.research.google.com/github/pythonuzgit/Deep-Learning-Apps-Using-Python/blob/master/Machine%20Learning/Regression_Models_with_Decision_Tree%2C_Random_Forest_and_XGBoost.ipynb\" target=\"_parent\"><img src=\"https://colab.research.google.com/assets/colab-badge.svg\" alt=\"Open In Colab\"/></a>"
      ]
    },
    {
      "cell_type": "code",
      "execution_count": null,
      "metadata": {
        "id": "1EC4kFfM82ML"
      },
      "outputs": [],
      "source": [
        ""
      ]
    },
    {
      "cell_type": "code",
      "source": [
        "from zipfile import ZipFile\n",
        "file_name = \"/content/stockholm-house-market-prices.zip\"\n",
        "with ZipFile(file_name, 'r') as zip:\n",
        "  zip.extractall()\n",
        "  print('Done')"
      ],
      "metadata": {
        "colab": {
          "base_uri": "https://localhost:8080/"
        },
        "id": "BuJMv3wl9Gvx",
        "outputId": "0d93b824-c501-4783-d713-9f6042628ede"
      },
      "execution_count": 5,
      "outputs": [
        {
          "output_type": "stream",
          "name": "stdout",
          "text": [
            "Done\n"
          ]
        }
      ]
    },
    {
      "cell_type": "code",
      "source": [
        "import numpy as np\n",
        "import pandas as pd\n",
        "import matplotlib.pyplot as plt\n",
        "import seaborn as sns\n",
        "from scipy import stats\n",
        "from sklearn.model_selection import train_test_split\n",
        "from sklearn.metrics import mean_absolute_error\n",
        "from sklearn.tree import DecisionTreeRegressor\n",
        "from sklearn.ensemble import RandomForestRegressor\n",
        "from xgboost import XGBRegressor"
      ],
      "metadata": {
        "id": "cKTv79U59gZR"
      },
      "execution_count": 60,
      "outputs": []
    },
    {
      "cell_type": "code",
      "source": [
        "df = pd.read_csv('/content/hemnet_data_clean.csv')\n",
        "df.drop(columns=['Unnamed: 0'],axis=1,inplace=True)\n",
        "df.head()"
      ],
      "metadata": {
        "colab": {
          "base_uri": "https://localhost:8080/",
          "height": 478
        },
        "id": "pzSO-Yzh9gWD",
        "outputId": "99c489a5-f631-4e62-c0a7-2eada3b99009"
      },
      "execution_count": 61,
      "outputs": [
        {
          "output_type": "execute_result",
          "data": {
            "text/plain": [
              "              address  asked_price                               coordinate  \\\n",
              "0    Markviksvägen 15    6475000.0                  [59.371685, 17.8250389]   \n",
              "1  Mälarhöjdsvägen 38    9950000.0                 [59.3008766, 17.9478054]   \n",
              "2     Häradsvägen 202    5795000.0  [59.27202322587505, 17.954076342308372]   \n",
              "3     Hemmansvägen 18   11950000.0   [59.28390406370304, 18.07625832074728]   \n",
              "4     Alholmsbacken 8    7950000.0                   [59.28134, 17.9009438]   \n",
              "\n",
              "   final_price  pourcentage_difference  land_area   area  \\\n",
              "0      6950000                     7.0      635.0  117.0   \n",
              "1     11300000                    14.0      882.0  195.0   \n",
              "2      6200000                     7.0     1224.0   90.0   \n",
              "3     12700000                     6.0      542.0  110.0   \n",
              "4      8100000                     2.0      690.0  157.0   \n",
              "\n",
              "                                       commune  price_per_area  rooms  \\\n",
              "0  Hässelby Södra Villastad, Stockholms kommun         59402.0    5.0   \n",
              "1   Mälarhöjden - Hägersten, Stockholms kommun         57949.0    5.0   \n",
              "2                   Segeltorp, Huddinge kommun         68889.0    6.0   \n",
              "3             Gamla Enskede, Stockholms kommun        115455.0    5.0   \n",
              "4          Skärholmshöjden., Stockholms kommun         51592.0    6.0   \n",
              "\n",
              "         sale_date  supplemental_area  \n",
              "0  Såld 2022-06-17               44.0  \n",
              "1  Såld 2022-06-17               22.0  \n",
              "2  Såld 2022-06-17               90.0  \n",
              "3  Såld 2022-06-17               48.0  \n",
              "4  Såld 2022-06-17                0.0  "
            ],
            "text/html": [
              "\n",
              "  <div id=\"df-1be6753e-5c81-438b-b7d0-c5151db0d886\">\n",
              "    <div class=\"colab-df-container\">\n",
              "      <div>\n",
              "<style scoped>\n",
              "    .dataframe tbody tr th:only-of-type {\n",
              "        vertical-align: middle;\n",
              "    }\n",
              "\n",
              "    .dataframe tbody tr th {\n",
              "        vertical-align: top;\n",
              "    }\n",
              "\n",
              "    .dataframe thead th {\n",
              "        text-align: right;\n",
              "    }\n",
              "</style>\n",
              "<table border=\"1\" class=\"dataframe\">\n",
              "  <thead>\n",
              "    <tr style=\"text-align: right;\">\n",
              "      <th></th>\n",
              "      <th>address</th>\n",
              "      <th>asked_price</th>\n",
              "      <th>coordinate</th>\n",
              "      <th>final_price</th>\n",
              "      <th>pourcentage_difference</th>\n",
              "      <th>land_area</th>\n",
              "      <th>area</th>\n",
              "      <th>commune</th>\n",
              "      <th>price_per_area</th>\n",
              "      <th>rooms</th>\n",
              "      <th>sale_date</th>\n",
              "      <th>supplemental_area</th>\n",
              "    </tr>\n",
              "  </thead>\n",
              "  <tbody>\n",
              "    <tr>\n",
              "      <th>0</th>\n",
              "      <td>Markviksvägen 15</td>\n",
              "      <td>6475000.0</td>\n",
              "      <td>[59.371685, 17.8250389]</td>\n",
              "      <td>6950000</td>\n",
              "      <td>7.0</td>\n",
              "      <td>635.0</td>\n",
              "      <td>117.0</td>\n",
              "      <td>Hässelby Södra Villastad, Stockholms kommun</td>\n",
              "      <td>59402.0</td>\n",
              "      <td>5.0</td>\n",
              "      <td>Såld 2022-06-17</td>\n",
              "      <td>44.0</td>\n",
              "    </tr>\n",
              "    <tr>\n",
              "      <th>1</th>\n",
              "      <td>Mälarhöjdsvägen 38</td>\n",
              "      <td>9950000.0</td>\n",
              "      <td>[59.3008766, 17.9478054]</td>\n",
              "      <td>11300000</td>\n",
              "      <td>14.0</td>\n",
              "      <td>882.0</td>\n",
              "      <td>195.0</td>\n",
              "      <td>Mälarhöjden - Hägersten, Stockholms kommun</td>\n",
              "      <td>57949.0</td>\n",
              "      <td>5.0</td>\n",
              "      <td>Såld 2022-06-17</td>\n",
              "      <td>22.0</td>\n",
              "    </tr>\n",
              "    <tr>\n",
              "      <th>2</th>\n",
              "      <td>Häradsvägen 202</td>\n",
              "      <td>5795000.0</td>\n",
              "      <td>[59.27202322587505, 17.954076342308372]</td>\n",
              "      <td>6200000</td>\n",
              "      <td>7.0</td>\n",
              "      <td>1224.0</td>\n",
              "      <td>90.0</td>\n",
              "      <td>Segeltorp, Huddinge kommun</td>\n",
              "      <td>68889.0</td>\n",
              "      <td>6.0</td>\n",
              "      <td>Såld 2022-06-17</td>\n",
              "      <td>90.0</td>\n",
              "    </tr>\n",
              "    <tr>\n",
              "      <th>3</th>\n",
              "      <td>Hemmansvägen 18</td>\n",
              "      <td>11950000.0</td>\n",
              "      <td>[59.28390406370304, 18.07625832074728]</td>\n",
              "      <td>12700000</td>\n",
              "      <td>6.0</td>\n",
              "      <td>542.0</td>\n",
              "      <td>110.0</td>\n",
              "      <td>Gamla Enskede, Stockholms kommun</td>\n",
              "      <td>115455.0</td>\n",
              "      <td>5.0</td>\n",
              "      <td>Såld 2022-06-17</td>\n",
              "      <td>48.0</td>\n",
              "    </tr>\n",
              "    <tr>\n",
              "      <th>4</th>\n",
              "      <td>Alholmsbacken 8</td>\n",
              "      <td>7950000.0</td>\n",
              "      <td>[59.28134, 17.9009438]</td>\n",
              "      <td>8100000</td>\n",
              "      <td>2.0</td>\n",
              "      <td>690.0</td>\n",
              "      <td>157.0</td>\n",
              "      <td>Skärholmshöjden., Stockholms kommun</td>\n",
              "      <td>51592.0</td>\n",
              "      <td>6.0</td>\n",
              "      <td>Såld 2022-06-17</td>\n",
              "      <td>0.0</td>\n",
              "    </tr>\n",
              "  </tbody>\n",
              "</table>\n",
              "</div>\n",
              "      <button class=\"colab-df-convert\" onclick=\"convertToInteractive('df-1be6753e-5c81-438b-b7d0-c5151db0d886')\"\n",
              "              title=\"Convert this dataframe to an interactive table.\"\n",
              "              style=\"display:none;\">\n",
              "        \n",
              "  <svg xmlns=\"http://www.w3.org/2000/svg\" height=\"24px\"viewBox=\"0 0 24 24\"\n",
              "       width=\"24px\">\n",
              "    <path d=\"M0 0h24v24H0V0z\" fill=\"none\"/>\n",
              "    <path d=\"M18.56 5.44l.94 2.06.94-2.06 2.06-.94-2.06-.94-.94-2.06-.94 2.06-2.06.94zm-11 1L8.5 8.5l.94-2.06 2.06-.94-2.06-.94L8.5 2.5l-.94 2.06-2.06.94zm10 10l.94 2.06.94-2.06 2.06-.94-2.06-.94-.94-2.06-.94 2.06-2.06.94z\"/><path d=\"M17.41 7.96l-1.37-1.37c-.4-.4-.92-.59-1.43-.59-.52 0-1.04.2-1.43.59L10.3 9.45l-7.72 7.72c-.78.78-.78 2.05 0 2.83L4 21.41c.39.39.9.59 1.41.59.51 0 1.02-.2 1.41-.59l7.78-7.78 2.81-2.81c.8-.78.8-2.07 0-2.86zM5.41 20L4 18.59l7.72-7.72 1.47 1.35L5.41 20z\"/>\n",
              "  </svg>\n",
              "      </button>\n",
              "      \n",
              "  <style>\n",
              "    .colab-df-container {\n",
              "      display:flex;\n",
              "      flex-wrap:wrap;\n",
              "      gap: 12px;\n",
              "    }\n",
              "\n",
              "    .colab-df-convert {\n",
              "      background-color: #E8F0FE;\n",
              "      border: none;\n",
              "      border-radius: 50%;\n",
              "      cursor: pointer;\n",
              "      display: none;\n",
              "      fill: #1967D2;\n",
              "      height: 32px;\n",
              "      padding: 0 0 0 0;\n",
              "      width: 32px;\n",
              "    }\n",
              "\n",
              "    .colab-df-convert:hover {\n",
              "      background-color: #E2EBFA;\n",
              "      box-shadow: 0px 1px 2px rgba(60, 64, 67, 0.3), 0px 1px 3px 1px rgba(60, 64, 67, 0.15);\n",
              "      fill: #174EA6;\n",
              "    }\n",
              "\n",
              "    [theme=dark] .colab-df-convert {\n",
              "      background-color: #3B4455;\n",
              "      fill: #D2E3FC;\n",
              "    }\n",
              "\n",
              "    [theme=dark] .colab-df-convert:hover {\n",
              "      background-color: #434B5C;\n",
              "      box-shadow: 0px 1px 3px 1px rgba(0, 0, 0, 0.15);\n",
              "      filter: drop-shadow(0px 1px 2px rgba(0, 0, 0, 0.3));\n",
              "      fill: #FFFFFF;\n",
              "    }\n",
              "  </style>\n",
              "\n",
              "      <script>\n",
              "        const buttonEl =\n",
              "          document.querySelector('#df-1be6753e-5c81-438b-b7d0-c5151db0d886 button.colab-df-convert');\n",
              "        buttonEl.style.display =\n",
              "          google.colab.kernel.accessAllowed ? 'block' : 'none';\n",
              "\n",
              "        async function convertToInteractive(key) {\n",
              "          const element = document.querySelector('#df-1be6753e-5c81-438b-b7d0-c5151db0d886');\n",
              "          const dataTable =\n",
              "            await google.colab.kernel.invokeFunction('convertToInteractive',\n",
              "                                                     [key], {});\n",
              "          if (!dataTable) return;\n",
              "\n",
              "          const docLinkHtml = 'Like what you see? Visit the ' +\n",
              "            '<a target=\"_blank\" href=https://colab.research.google.com/notebooks/data_table.ipynb>data table notebook</a>'\n",
              "            + ' to learn more about interactive tables.';\n",
              "          element.innerHTML = '';\n",
              "          dataTable['output_type'] = 'display_data';\n",
              "          await google.colab.output.renderOutput(dataTable, element);\n",
              "          const docLink = document.createElement('div');\n",
              "          docLink.innerHTML = docLinkHtml;\n",
              "          element.appendChild(docLink);\n",
              "        }\n",
              "      </script>\n",
              "    </div>\n",
              "  </div>\n",
              "  "
            ]
          },
          "metadata": {},
          "execution_count": 61
        }
      ]
    },
    {
      "cell_type": "code",
      "source": [
        "df.info()"
      ],
      "metadata": {
        "colab": {
          "base_uri": "https://localhost:8080/"
        },
        "id": "GI_0vrrI9gQK",
        "outputId": "455b38cb-4cdf-48f7-f1a8-8cc7432f8c58"
      },
      "execution_count": 62,
      "outputs": [
        {
          "output_type": "stream",
          "name": "stdout",
          "text": [
            "<class 'pandas.core.frame.DataFrame'>\n",
            "RangeIndex: 500 entries, 0 to 499\n",
            "Data columns (total 12 columns):\n",
            " #   Column                  Non-Null Count  Dtype  \n",
            "---  ------                  --------------  -----  \n",
            " 0   address                 500 non-null    object \n",
            " 1   asked_price             500 non-null    float64\n",
            " 2   coordinate              500 non-null    object \n",
            " 3   final_price             500 non-null    int64  \n",
            " 4   pourcentage_difference  500 non-null    float64\n",
            " 5   land_area               495 non-null    float64\n",
            " 6   area                    499 non-null    float64\n",
            " 7   commune                 500 non-null    object \n",
            " 8   price_per_area          499 non-null    float64\n",
            " 9   rooms                   490 non-null    float64\n",
            " 10  sale_date               500 non-null    object \n",
            " 11  supplemental_area       500 non-null    float64\n",
            "dtypes: float64(7), int64(1), object(4)\n",
            "memory usage: 47.0+ KB\n"
          ]
        }
      ]
    },
    {
      "cell_type": "markdown",
      "source": [
        "Converting Catagorical Variables"
      ],
      "metadata": {
        "id": "12Mq3eGP-SSF"
      }
    },
    {
      "cell_type": "code",
      "source": [
        "df_frequency_map = df.price_per_area.value_counts().to_dict()\n",
        "df.zip_code = df.price_per_area.map(df_frequency_map)\n",
        "df.head()"
      ],
      "metadata": {
        "colab": {
          "base_uri": "https://localhost:8080/",
          "height": 513
        },
        "id": "QC5uwYMC9Gmk",
        "outputId": "9794d9c0-c758-481a-903e-99bfcc27375f"
      },
      "execution_count": 63,
      "outputs": [
        {
          "output_type": "stream",
          "name": "stderr",
          "text": [
            "/usr/local/lib/python3.7/dist-packages/ipykernel_launcher.py:2: UserWarning: Pandas doesn't allow columns to be created via a new attribute name - see https://pandas.pydata.org/pandas-docs/stable/indexing.html#attribute-access\n",
            "  \n"
          ]
        },
        {
          "output_type": "execute_result",
          "data": {
            "text/plain": [
              "              address  asked_price                               coordinate  \\\n",
              "0    Markviksvägen 15    6475000.0                  [59.371685, 17.8250389]   \n",
              "1  Mälarhöjdsvägen 38    9950000.0                 [59.3008766, 17.9478054]   \n",
              "2     Häradsvägen 202    5795000.0  [59.27202322587505, 17.954076342308372]   \n",
              "3     Hemmansvägen 18   11950000.0   [59.28390406370304, 18.07625832074728]   \n",
              "4     Alholmsbacken 8    7950000.0                   [59.28134, 17.9009438]   \n",
              "\n",
              "   final_price  pourcentage_difference  land_area   area  \\\n",
              "0      6950000                     7.0      635.0  117.0   \n",
              "1     11300000                    14.0      882.0  195.0   \n",
              "2      6200000                     7.0     1224.0   90.0   \n",
              "3     12700000                     6.0      542.0  110.0   \n",
              "4      8100000                     2.0      690.0  157.0   \n",
              "\n",
              "                                       commune  price_per_area  rooms  \\\n",
              "0  Hässelby Södra Villastad, Stockholms kommun         59402.0    5.0   \n",
              "1   Mälarhöjden - Hägersten, Stockholms kommun         57949.0    5.0   \n",
              "2                   Segeltorp, Huddinge kommun         68889.0    6.0   \n",
              "3             Gamla Enskede, Stockholms kommun        115455.0    5.0   \n",
              "4          Skärholmshöjden., Stockholms kommun         51592.0    6.0   \n",
              "\n",
              "         sale_date  supplemental_area  \n",
              "0  Såld 2022-06-17               44.0  \n",
              "1  Såld 2022-06-17               22.0  \n",
              "2  Såld 2022-06-17               90.0  \n",
              "3  Såld 2022-06-17               48.0  \n",
              "4  Såld 2022-06-17                0.0  "
            ],
            "text/html": [
              "\n",
              "  <div id=\"df-8dcae501-520b-4297-ae17-05250c069504\">\n",
              "    <div class=\"colab-df-container\">\n",
              "      <div>\n",
              "<style scoped>\n",
              "    .dataframe tbody tr th:only-of-type {\n",
              "        vertical-align: middle;\n",
              "    }\n",
              "\n",
              "    .dataframe tbody tr th {\n",
              "        vertical-align: top;\n",
              "    }\n",
              "\n",
              "    .dataframe thead th {\n",
              "        text-align: right;\n",
              "    }\n",
              "</style>\n",
              "<table border=\"1\" class=\"dataframe\">\n",
              "  <thead>\n",
              "    <tr style=\"text-align: right;\">\n",
              "      <th></th>\n",
              "      <th>address</th>\n",
              "      <th>asked_price</th>\n",
              "      <th>coordinate</th>\n",
              "      <th>final_price</th>\n",
              "      <th>pourcentage_difference</th>\n",
              "      <th>land_area</th>\n",
              "      <th>area</th>\n",
              "      <th>commune</th>\n",
              "      <th>price_per_area</th>\n",
              "      <th>rooms</th>\n",
              "      <th>sale_date</th>\n",
              "      <th>supplemental_area</th>\n",
              "    </tr>\n",
              "  </thead>\n",
              "  <tbody>\n",
              "    <tr>\n",
              "      <th>0</th>\n",
              "      <td>Markviksvägen 15</td>\n",
              "      <td>6475000.0</td>\n",
              "      <td>[59.371685, 17.8250389]</td>\n",
              "      <td>6950000</td>\n",
              "      <td>7.0</td>\n",
              "      <td>635.0</td>\n",
              "      <td>117.0</td>\n",
              "      <td>Hässelby Södra Villastad, Stockholms kommun</td>\n",
              "      <td>59402.0</td>\n",
              "      <td>5.0</td>\n",
              "      <td>Såld 2022-06-17</td>\n",
              "      <td>44.0</td>\n",
              "    </tr>\n",
              "    <tr>\n",
              "      <th>1</th>\n",
              "      <td>Mälarhöjdsvägen 38</td>\n",
              "      <td>9950000.0</td>\n",
              "      <td>[59.3008766, 17.9478054]</td>\n",
              "      <td>11300000</td>\n",
              "      <td>14.0</td>\n",
              "      <td>882.0</td>\n",
              "      <td>195.0</td>\n",
              "      <td>Mälarhöjden - Hägersten, Stockholms kommun</td>\n",
              "      <td>57949.0</td>\n",
              "      <td>5.0</td>\n",
              "      <td>Såld 2022-06-17</td>\n",
              "      <td>22.0</td>\n",
              "    </tr>\n",
              "    <tr>\n",
              "      <th>2</th>\n",
              "      <td>Häradsvägen 202</td>\n",
              "      <td>5795000.0</td>\n",
              "      <td>[59.27202322587505, 17.954076342308372]</td>\n",
              "      <td>6200000</td>\n",
              "      <td>7.0</td>\n",
              "      <td>1224.0</td>\n",
              "      <td>90.0</td>\n",
              "      <td>Segeltorp, Huddinge kommun</td>\n",
              "      <td>68889.0</td>\n",
              "      <td>6.0</td>\n",
              "      <td>Såld 2022-06-17</td>\n",
              "      <td>90.0</td>\n",
              "    </tr>\n",
              "    <tr>\n",
              "      <th>3</th>\n",
              "      <td>Hemmansvägen 18</td>\n",
              "      <td>11950000.0</td>\n",
              "      <td>[59.28390406370304, 18.07625832074728]</td>\n",
              "      <td>12700000</td>\n",
              "      <td>6.0</td>\n",
              "      <td>542.0</td>\n",
              "      <td>110.0</td>\n",
              "      <td>Gamla Enskede, Stockholms kommun</td>\n",
              "      <td>115455.0</td>\n",
              "      <td>5.0</td>\n",
              "      <td>Såld 2022-06-17</td>\n",
              "      <td>48.0</td>\n",
              "    </tr>\n",
              "    <tr>\n",
              "      <th>4</th>\n",
              "      <td>Alholmsbacken 8</td>\n",
              "      <td>7950000.0</td>\n",
              "      <td>[59.28134, 17.9009438]</td>\n",
              "      <td>8100000</td>\n",
              "      <td>2.0</td>\n",
              "      <td>690.0</td>\n",
              "      <td>157.0</td>\n",
              "      <td>Skärholmshöjden., Stockholms kommun</td>\n",
              "      <td>51592.0</td>\n",
              "      <td>6.0</td>\n",
              "      <td>Såld 2022-06-17</td>\n",
              "      <td>0.0</td>\n",
              "    </tr>\n",
              "  </tbody>\n",
              "</table>\n",
              "</div>\n",
              "      <button class=\"colab-df-convert\" onclick=\"convertToInteractive('df-8dcae501-520b-4297-ae17-05250c069504')\"\n",
              "              title=\"Convert this dataframe to an interactive table.\"\n",
              "              style=\"display:none;\">\n",
              "        \n",
              "  <svg xmlns=\"http://www.w3.org/2000/svg\" height=\"24px\"viewBox=\"0 0 24 24\"\n",
              "       width=\"24px\">\n",
              "    <path d=\"M0 0h24v24H0V0z\" fill=\"none\"/>\n",
              "    <path d=\"M18.56 5.44l.94 2.06.94-2.06 2.06-.94-2.06-.94-.94-2.06-.94 2.06-2.06.94zm-11 1L8.5 8.5l.94-2.06 2.06-.94-2.06-.94L8.5 2.5l-.94 2.06-2.06.94zm10 10l.94 2.06.94-2.06 2.06-.94-2.06-.94-.94-2.06-.94 2.06-2.06.94z\"/><path d=\"M17.41 7.96l-1.37-1.37c-.4-.4-.92-.59-1.43-.59-.52 0-1.04.2-1.43.59L10.3 9.45l-7.72 7.72c-.78.78-.78 2.05 0 2.83L4 21.41c.39.39.9.59 1.41.59.51 0 1.02-.2 1.41-.59l7.78-7.78 2.81-2.81c.8-.78.8-2.07 0-2.86zM5.41 20L4 18.59l7.72-7.72 1.47 1.35L5.41 20z\"/>\n",
              "  </svg>\n",
              "      </button>\n",
              "      \n",
              "  <style>\n",
              "    .colab-df-container {\n",
              "      display:flex;\n",
              "      flex-wrap:wrap;\n",
              "      gap: 12px;\n",
              "    }\n",
              "\n",
              "    .colab-df-convert {\n",
              "      background-color: #E8F0FE;\n",
              "      border: none;\n",
              "      border-radius: 50%;\n",
              "      cursor: pointer;\n",
              "      display: none;\n",
              "      fill: #1967D2;\n",
              "      height: 32px;\n",
              "      padding: 0 0 0 0;\n",
              "      width: 32px;\n",
              "    }\n",
              "\n",
              "    .colab-df-convert:hover {\n",
              "      background-color: #E2EBFA;\n",
              "      box-shadow: 0px 1px 2px rgba(60, 64, 67, 0.3), 0px 1px 3px 1px rgba(60, 64, 67, 0.15);\n",
              "      fill: #174EA6;\n",
              "    }\n",
              "\n",
              "    [theme=dark] .colab-df-convert {\n",
              "      background-color: #3B4455;\n",
              "      fill: #D2E3FC;\n",
              "    }\n",
              "\n",
              "    [theme=dark] .colab-df-convert:hover {\n",
              "      background-color: #434B5C;\n",
              "      box-shadow: 0px 1px 3px 1px rgba(0, 0, 0, 0.15);\n",
              "      filter: drop-shadow(0px 1px 2px rgba(0, 0, 0, 0.3));\n",
              "      fill: #FFFFFF;\n",
              "    }\n",
              "  </style>\n",
              "\n",
              "      <script>\n",
              "        const buttonEl =\n",
              "          document.querySelector('#df-8dcae501-520b-4297-ae17-05250c069504 button.colab-df-convert');\n",
              "        buttonEl.style.display =\n",
              "          google.colab.kernel.accessAllowed ? 'block' : 'none';\n",
              "\n",
              "        async function convertToInteractive(key) {\n",
              "          const element = document.querySelector('#df-8dcae501-520b-4297-ae17-05250c069504');\n",
              "          const dataTable =\n",
              "            await google.colab.kernel.invokeFunction('convertToInteractive',\n",
              "                                                     [key], {});\n",
              "          if (!dataTable) return;\n",
              "\n",
              "          const docLinkHtml = 'Like what you see? Visit the ' +\n",
              "            '<a target=\"_blank\" href=https://colab.research.google.com/notebooks/data_table.ipynb>data table notebook</a>'\n",
              "            + ' to learn more about interactive tables.';\n",
              "          element.innerHTML = '';\n",
              "          dataTable['output_type'] = 'display_data';\n",
              "          await google.colab.output.renderOutput(dataTable, element);\n",
              "          const docLink = document.createElement('div');\n",
              "          docLink.innerHTML = docLinkHtml;\n",
              "          element.appendChild(docLink);\n",
              "        }\n",
              "      </script>\n",
              "    </div>\n",
              "  </div>\n",
              "  "
            ]
          },
          "metadata": {},
          "execution_count": 63
        }
      ]
    },
    {
      "cell_type": "code",
      "source": [
        "df_frequency_map2 = df.area.value_counts().to_dict()\n",
        "df.city = df.area.map(df_frequency_map2)\n",
        "df.head()"
      ],
      "metadata": {
        "colab": {
          "base_uri": "https://localhost:8080/",
          "height": 513
        },
        "id": "jAHYbzw6--5x",
        "outputId": "888f0e79-d577-4124-d4a4-181df7f50c91"
      },
      "execution_count": 64,
      "outputs": [
        {
          "output_type": "stream",
          "name": "stderr",
          "text": [
            "/usr/local/lib/python3.7/dist-packages/ipykernel_launcher.py:2: UserWarning: Pandas doesn't allow columns to be created via a new attribute name - see https://pandas.pydata.org/pandas-docs/stable/indexing.html#attribute-access\n",
            "  \n"
          ]
        },
        {
          "output_type": "execute_result",
          "data": {
            "text/plain": [
              "              address  asked_price                               coordinate  \\\n",
              "0    Markviksvägen 15    6475000.0                  [59.371685, 17.8250389]   \n",
              "1  Mälarhöjdsvägen 38    9950000.0                 [59.3008766, 17.9478054]   \n",
              "2     Häradsvägen 202    5795000.0  [59.27202322587505, 17.954076342308372]   \n",
              "3     Hemmansvägen 18   11950000.0   [59.28390406370304, 18.07625832074728]   \n",
              "4     Alholmsbacken 8    7950000.0                   [59.28134, 17.9009438]   \n",
              "\n",
              "   final_price  pourcentage_difference  land_area   area  \\\n",
              "0      6950000                     7.0      635.0  117.0   \n",
              "1     11300000                    14.0      882.0  195.0   \n",
              "2      6200000                     7.0     1224.0   90.0   \n",
              "3     12700000                     6.0      542.0  110.0   \n",
              "4      8100000                     2.0      690.0  157.0   \n",
              "\n",
              "                                       commune  price_per_area  rooms  \\\n",
              "0  Hässelby Södra Villastad, Stockholms kommun         59402.0    5.0   \n",
              "1   Mälarhöjden - Hägersten, Stockholms kommun         57949.0    5.0   \n",
              "2                   Segeltorp, Huddinge kommun         68889.0    6.0   \n",
              "3             Gamla Enskede, Stockholms kommun        115455.0    5.0   \n",
              "4          Skärholmshöjden., Stockholms kommun         51592.0    6.0   \n",
              "\n",
              "         sale_date  supplemental_area  \n",
              "0  Såld 2022-06-17               44.0  \n",
              "1  Såld 2022-06-17               22.0  \n",
              "2  Såld 2022-06-17               90.0  \n",
              "3  Såld 2022-06-17               48.0  \n",
              "4  Såld 2022-06-17                0.0  "
            ],
            "text/html": [
              "\n",
              "  <div id=\"df-b148699f-356e-4882-9d80-dac1a3e24a17\">\n",
              "    <div class=\"colab-df-container\">\n",
              "      <div>\n",
              "<style scoped>\n",
              "    .dataframe tbody tr th:only-of-type {\n",
              "        vertical-align: middle;\n",
              "    }\n",
              "\n",
              "    .dataframe tbody tr th {\n",
              "        vertical-align: top;\n",
              "    }\n",
              "\n",
              "    .dataframe thead th {\n",
              "        text-align: right;\n",
              "    }\n",
              "</style>\n",
              "<table border=\"1\" class=\"dataframe\">\n",
              "  <thead>\n",
              "    <tr style=\"text-align: right;\">\n",
              "      <th></th>\n",
              "      <th>address</th>\n",
              "      <th>asked_price</th>\n",
              "      <th>coordinate</th>\n",
              "      <th>final_price</th>\n",
              "      <th>pourcentage_difference</th>\n",
              "      <th>land_area</th>\n",
              "      <th>area</th>\n",
              "      <th>commune</th>\n",
              "      <th>price_per_area</th>\n",
              "      <th>rooms</th>\n",
              "      <th>sale_date</th>\n",
              "      <th>supplemental_area</th>\n",
              "    </tr>\n",
              "  </thead>\n",
              "  <tbody>\n",
              "    <tr>\n",
              "      <th>0</th>\n",
              "      <td>Markviksvägen 15</td>\n",
              "      <td>6475000.0</td>\n",
              "      <td>[59.371685, 17.8250389]</td>\n",
              "      <td>6950000</td>\n",
              "      <td>7.0</td>\n",
              "      <td>635.0</td>\n",
              "      <td>117.0</td>\n",
              "      <td>Hässelby Södra Villastad, Stockholms kommun</td>\n",
              "      <td>59402.0</td>\n",
              "      <td>5.0</td>\n",
              "      <td>Såld 2022-06-17</td>\n",
              "      <td>44.0</td>\n",
              "    </tr>\n",
              "    <tr>\n",
              "      <th>1</th>\n",
              "      <td>Mälarhöjdsvägen 38</td>\n",
              "      <td>9950000.0</td>\n",
              "      <td>[59.3008766, 17.9478054]</td>\n",
              "      <td>11300000</td>\n",
              "      <td>14.0</td>\n",
              "      <td>882.0</td>\n",
              "      <td>195.0</td>\n",
              "      <td>Mälarhöjden - Hägersten, Stockholms kommun</td>\n",
              "      <td>57949.0</td>\n",
              "      <td>5.0</td>\n",
              "      <td>Såld 2022-06-17</td>\n",
              "      <td>22.0</td>\n",
              "    </tr>\n",
              "    <tr>\n",
              "      <th>2</th>\n",
              "      <td>Häradsvägen 202</td>\n",
              "      <td>5795000.0</td>\n",
              "      <td>[59.27202322587505, 17.954076342308372]</td>\n",
              "      <td>6200000</td>\n",
              "      <td>7.0</td>\n",
              "      <td>1224.0</td>\n",
              "      <td>90.0</td>\n",
              "      <td>Segeltorp, Huddinge kommun</td>\n",
              "      <td>68889.0</td>\n",
              "      <td>6.0</td>\n",
              "      <td>Såld 2022-06-17</td>\n",
              "      <td>90.0</td>\n",
              "    </tr>\n",
              "    <tr>\n",
              "      <th>3</th>\n",
              "      <td>Hemmansvägen 18</td>\n",
              "      <td>11950000.0</td>\n",
              "      <td>[59.28390406370304, 18.07625832074728]</td>\n",
              "      <td>12700000</td>\n",
              "      <td>6.0</td>\n",
              "      <td>542.0</td>\n",
              "      <td>110.0</td>\n",
              "      <td>Gamla Enskede, Stockholms kommun</td>\n",
              "      <td>115455.0</td>\n",
              "      <td>5.0</td>\n",
              "      <td>Såld 2022-06-17</td>\n",
              "      <td>48.0</td>\n",
              "    </tr>\n",
              "    <tr>\n",
              "      <th>4</th>\n",
              "      <td>Alholmsbacken 8</td>\n",
              "      <td>7950000.0</td>\n",
              "      <td>[59.28134, 17.9009438]</td>\n",
              "      <td>8100000</td>\n",
              "      <td>2.0</td>\n",
              "      <td>690.0</td>\n",
              "      <td>157.0</td>\n",
              "      <td>Skärholmshöjden., Stockholms kommun</td>\n",
              "      <td>51592.0</td>\n",
              "      <td>6.0</td>\n",
              "      <td>Såld 2022-06-17</td>\n",
              "      <td>0.0</td>\n",
              "    </tr>\n",
              "  </tbody>\n",
              "</table>\n",
              "</div>\n",
              "      <button class=\"colab-df-convert\" onclick=\"convertToInteractive('df-b148699f-356e-4882-9d80-dac1a3e24a17')\"\n",
              "              title=\"Convert this dataframe to an interactive table.\"\n",
              "              style=\"display:none;\">\n",
              "        \n",
              "  <svg xmlns=\"http://www.w3.org/2000/svg\" height=\"24px\"viewBox=\"0 0 24 24\"\n",
              "       width=\"24px\">\n",
              "    <path d=\"M0 0h24v24H0V0z\" fill=\"none\"/>\n",
              "    <path d=\"M18.56 5.44l.94 2.06.94-2.06 2.06-.94-2.06-.94-.94-2.06-.94 2.06-2.06.94zm-11 1L8.5 8.5l.94-2.06 2.06-.94-2.06-.94L8.5 2.5l-.94 2.06-2.06.94zm10 10l.94 2.06.94-2.06 2.06-.94-2.06-.94-.94-2.06-.94 2.06-2.06.94z\"/><path d=\"M17.41 7.96l-1.37-1.37c-.4-.4-.92-.59-1.43-.59-.52 0-1.04.2-1.43.59L10.3 9.45l-7.72 7.72c-.78.78-.78 2.05 0 2.83L4 21.41c.39.39.9.59 1.41.59.51 0 1.02-.2 1.41-.59l7.78-7.78 2.81-2.81c.8-.78.8-2.07 0-2.86zM5.41 20L4 18.59l7.72-7.72 1.47 1.35L5.41 20z\"/>\n",
              "  </svg>\n",
              "      </button>\n",
              "      \n",
              "  <style>\n",
              "    .colab-df-container {\n",
              "      display:flex;\n",
              "      flex-wrap:wrap;\n",
              "      gap: 12px;\n",
              "    }\n",
              "\n",
              "    .colab-df-convert {\n",
              "      background-color: #E8F0FE;\n",
              "      border: none;\n",
              "      border-radius: 50%;\n",
              "      cursor: pointer;\n",
              "      display: none;\n",
              "      fill: #1967D2;\n",
              "      height: 32px;\n",
              "      padding: 0 0 0 0;\n",
              "      width: 32px;\n",
              "    }\n",
              "\n",
              "    .colab-df-convert:hover {\n",
              "      background-color: #E2EBFA;\n",
              "      box-shadow: 0px 1px 2px rgba(60, 64, 67, 0.3), 0px 1px 3px 1px rgba(60, 64, 67, 0.15);\n",
              "      fill: #174EA6;\n",
              "    }\n",
              "\n",
              "    [theme=dark] .colab-df-convert {\n",
              "      background-color: #3B4455;\n",
              "      fill: #D2E3FC;\n",
              "    }\n",
              "\n",
              "    [theme=dark] .colab-df-convert:hover {\n",
              "      background-color: #434B5C;\n",
              "      box-shadow: 0px 1px 3px 1px rgba(0, 0, 0, 0.15);\n",
              "      filter: drop-shadow(0px 1px 2px rgba(0, 0, 0, 0.3));\n",
              "      fill: #FFFFFF;\n",
              "    }\n",
              "  </style>\n",
              "\n",
              "      <script>\n",
              "        const buttonEl =\n",
              "          document.querySelector('#df-b148699f-356e-4882-9d80-dac1a3e24a17 button.colab-df-convert');\n",
              "        buttonEl.style.display =\n",
              "          google.colab.kernel.accessAllowed ? 'block' : 'none';\n",
              "\n",
              "        async function convertToInteractive(key) {\n",
              "          const element = document.querySelector('#df-b148699f-356e-4882-9d80-dac1a3e24a17');\n",
              "          const dataTable =\n",
              "            await google.colab.kernel.invokeFunction('convertToInteractive',\n",
              "                                                     [key], {});\n",
              "          if (!dataTable) return;\n",
              "\n",
              "          const docLinkHtml = 'Like what you see? Visit the ' +\n",
              "            '<a target=\"_blank\" href=https://colab.research.google.com/notebooks/data_table.ipynb>data table notebook</a>'\n",
              "            + ' to learn more about interactive tables.';\n",
              "          element.innerHTML = '';\n",
              "          dataTable['output_type'] = 'display_data';\n",
              "          await google.colab.output.renderOutput(dataTable, element);\n",
              "          const docLink = document.createElement('div');\n",
              "          docLink.innerHTML = docLinkHtml;\n",
              "          element.appendChild(docLink);\n",
              "        }\n",
              "      </script>\n",
              "    </div>\n",
              "  </div>\n",
              "  "
            ]
          },
          "metadata": {},
          "execution_count": 64
        }
      ]
    },
    {
      "cell_type": "code",
      "source": [
        "df.drop('address',axis=1,inplace=True)\n",
        "df.drop('coordinate',axis=1,inplace=True)\n",
        "df.drop('commune',axis=1,inplace=True)\n",
        "df.drop('sale_date', axis = 1, inplace = True)"
      ],
      "metadata": {
        "id": "zN6lwCiP--2w"
      },
      "execution_count": 65,
      "outputs": []
    },
    {
      "cell_type": "code",
      "source": [
        "df.tail()"
      ],
      "metadata": {
        "colab": {
          "base_uri": "https://localhost:8080/",
          "height": 206
        },
        "id": "tGZn-2C6--zo",
        "outputId": "705c17db-760e-4710-f939-2db197370c43"
      },
      "execution_count": 66,
      "outputs": [
        {
          "output_type": "execute_result",
          "data": {
            "text/plain": [
              "     asked_price  final_price  pourcentage_difference  land_area   area  \\\n",
              "495    9500000.0     11760000                    24.0      624.0  164.0   \n",
              "496    7295000.0      7295000                     0.0      618.0  125.0   \n",
              "497    9795000.0     10200000                     4.0      700.0  172.0   \n",
              "498   11950000.0     13000000                     9.0     1307.0  174.0   \n",
              "499   12495000.0     15000000                    20.0      691.0  137.0   \n",
              "\n",
              "     price_per_area  rooms  supplemental_area  \n",
              "495         71707.0    8.0               70.0  \n",
              "496         58360.0    NaN               81.0  \n",
              "497         59302.0    6.0               36.0  \n",
              "498         74713.0    8.0               90.0  \n",
              "499        109489.0    5.0               64.0  "
            ],
            "text/html": [
              "\n",
              "  <div id=\"df-3f1a6b84-dd71-4989-8fd4-0dadd393bac0\">\n",
              "    <div class=\"colab-df-container\">\n",
              "      <div>\n",
              "<style scoped>\n",
              "    .dataframe tbody tr th:only-of-type {\n",
              "        vertical-align: middle;\n",
              "    }\n",
              "\n",
              "    .dataframe tbody tr th {\n",
              "        vertical-align: top;\n",
              "    }\n",
              "\n",
              "    .dataframe thead th {\n",
              "        text-align: right;\n",
              "    }\n",
              "</style>\n",
              "<table border=\"1\" class=\"dataframe\">\n",
              "  <thead>\n",
              "    <tr style=\"text-align: right;\">\n",
              "      <th></th>\n",
              "      <th>asked_price</th>\n",
              "      <th>final_price</th>\n",
              "      <th>pourcentage_difference</th>\n",
              "      <th>land_area</th>\n",
              "      <th>area</th>\n",
              "      <th>price_per_area</th>\n",
              "      <th>rooms</th>\n",
              "      <th>supplemental_area</th>\n",
              "    </tr>\n",
              "  </thead>\n",
              "  <tbody>\n",
              "    <tr>\n",
              "      <th>495</th>\n",
              "      <td>9500000.0</td>\n",
              "      <td>11760000</td>\n",
              "      <td>24.0</td>\n",
              "      <td>624.0</td>\n",
              "      <td>164.0</td>\n",
              "      <td>71707.0</td>\n",
              "      <td>8.0</td>\n",
              "      <td>70.0</td>\n",
              "    </tr>\n",
              "    <tr>\n",
              "      <th>496</th>\n",
              "      <td>7295000.0</td>\n",
              "      <td>7295000</td>\n",
              "      <td>0.0</td>\n",
              "      <td>618.0</td>\n",
              "      <td>125.0</td>\n",
              "      <td>58360.0</td>\n",
              "      <td>NaN</td>\n",
              "      <td>81.0</td>\n",
              "    </tr>\n",
              "    <tr>\n",
              "      <th>497</th>\n",
              "      <td>9795000.0</td>\n",
              "      <td>10200000</td>\n",
              "      <td>4.0</td>\n",
              "      <td>700.0</td>\n",
              "      <td>172.0</td>\n",
              "      <td>59302.0</td>\n",
              "      <td>6.0</td>\n",
              "      <td>36.0</td>\n",
              "    </tr>\n",
              "    <tr>\n",
              "      <th>498</th>\n",
              "      <td>11950000.0</td>\n",
              "      <td>13000000</td>\n",
              "      <td>9.0</td>\n",
              "      <td>1307.0</td>\n",
              "      <td>174.0</td>\n",
              "      <td>74713.0</td>\n",
              "      <td>8.0</td>\n",
              "      <td>90.0</td>\n",
              "    </tr>\n",
              "    <tr>\n",
              "      <th>499</th>\n",
              "      <td>12495000.0</td>\n",
              "      <td>15000000</td>\n",
              "      <td>20.0</td>\n",
              "      <td>691.0</td>\n",
              "      <td>137.0</td>\n",
              "      <td>109489.0</td>\n",
              "      <td>5.0</td>\n",
              "      <td>64.0</td>\n",
              "    </tr>\n",
              "  </tbody>\n",
              "</table>\n",
              "</div>\n",
              "      <button class=\"colab-df-convert\" onclick=\"convertToInteractive('df-3f1a6b84-dd71-4989-8fd4-0dadd393bac0')\"\n",
              "              title=\"Convert this dataframe to an interactive table.\"\n",
              "              style=\"display:none;\">\n",
              "        \n",
              "  <svg xmlns=\"http://www.w3.org/2000/svg\" height=\"24px\"viewBox=\"0 0 24 24\"\n",
              "       width=\"24px\">\n",
              "    <path d=\"M0 0h24v24H0V0z\" fill=\"none\"/>\n",
              "    <path d=\"M18.56 5.44l.94 2.06.94-2.06 2.06-.94-2.06-.94-.94-2.06-.94 2.06-2.06.94zm-11 1L8.5 8.5l.94-2.06 2.06-.94-2.06-.94L8.5 2.5l-.94 2.06-2.06.94zm10 10l.94 2.06.94-2.06 2.06-.94-2.06-.94-.94-2.06-.94 2.06-2.06.94z\"/><path d=\"M17.41 7.96l-1.37-1.37c-.4-.4-.92-.59-1.43-.59-.52 0-1.04.2-1.43.59L10.3 9.45l-7.72 7.72c-.78.78-.78 2.05 0 2.83L4 21.41c.39.39.9.59 1.41.59.51 0 1.02-.2 1.41-.59l7.78-7.78 2.81-2.81c.8-.78.8-2.07 0-2.86zM5.41 20L4 18.59l7.72-7.72 1.47 1.35L5.41 20z\"/>\n",
              "  </svg>\n",
              "      </button>\n",
              "      \n",
              "  <style>\n",
              "    .colab-df-container {\n",
              "      display:flex;\n",
              "      flex-wrap:wrap;\n",
              "      gap: 12px;\n",
              "    }\n",
              "\n",
              "    .colab-df-convert {\n",
              "      background-color: #E8F0FE;\n",
              "      border: none;\n",
              "      border-radius: 50%;\n",
              "      cursor: pointer;\n",
              "      display: none;\n",
              "      fill: #1967D2;\n",
              "      height: 32px;\n",
              "      padding: 0 0 0 0;\n",
              "      width: 32px;\n",
              "    }\n",
              "\n",
              "    .colab-df-convert:hover {\n",
              "      background-color: #E2EBFA;\n",
              "      box-shadow: 0px 1px 2px rgba(60, 64, 67, 0.3), 0px 1px 3px 1px rgba(60, 64, 67, 0.15);\n",
              "      fill: #174EA6;\n",
              "    }\n",
              "\n",
              "    [theme=dark] .colab-df-convert {\n",
              "      background-color: #3B4455;\n",
              "      fill: #D2E3FC;\n",
              "    }\n",
              "\n",
              "    [theme=dark] .colab-df-convert:hover {\n",
              "      background-color: #434B5C;\n",
              "      box-shadow: 0px 1px 3px 1px rgba(0, 0, 0, 0.15);\n",
              "      filter: drop-shadow(0px 1px 2px rgba(0, 0, 0, 0.3));\n",
              "      fill: #FFFFFF;\n",
              "    }\n",
              "  </style>\n",
              "\n",
              "      <script>\n",
              "        const buttonEl =\n",
              "          document.querySelector('#df-3f1a6b84-dd71-4989-8fd4-0dadd393bac0 button.colab-df-convert');\n",
              "        buttonEl.style.display =\n",
              "          google.colab.kernel.accessAllowed ? 'block' : 'none';\n",
              "\n",
              "        async function convertToInteractive(key) {\n",
              "          const element = document.querySelector('#df-3f1a6b84-dd71-4989-8fd4-0dadd393bac0');\n",
              "          const dataTable =\n",
              "            await google.colab.kernel.invokeFunction('convertToInteractive',\n",
              "                                                     [key], {});\n",
              "          if (!dataTable) return;\n",
              "\n",
              "          const docLinkHtml = 'Like what you see? Visit the ' +\n",
              "            '<a target=\"_blank\" href=https://colab.research.google.com/notebooks/data_table.ipynb>data table notebook</a>'\n",
              "            + ' to learn more about interactive tables.';\n",
              "          element.innerHTML = '';\n",
              "          dataTable['output_type'] = 'display_data';\n",
              "          await google.colab.output.renderOutput(dataTable, element);\n",
              "          const docLink = document.createElement('div');\n",
              "          docLink.innerHTML = docLinkHtml;\n",
              "          element.appendChild(docLink);\n",
              "        }\n",
              "      </script>\n",
              "    </div>\n",
              "  </div>\n",
              "  "
            ]
          },
          "metadata": {},
          "execution_count": 66
        }
      ]
    },
    {
      "cell_type": "code",
      "source": [
        "df.shape"
      ],
      "metadata": {
        "colab": {
          "base_uri": "https://localhost:8080/"
        },
        "id": "FhfkrMjZ--wZ",
        "outputId": "7450d006-a359-41c1-a2fa-6296c7f94f22"
      },
      "execution_count": 67,
      "outputs": [
        {
          "output_type": "execute_result",
          "data": {
            "text/plain": [
              "(500, 8)"
            ]
          },
          "metadata": {},
          "execution_count": 67
        }
      ]
    },
    {
      "cell_type": "code",
      "source": [
        "df.columns"
      ],
      "metadata": {
        "colab": {
          "base_uri": "https://localhost:8080/"
        },
        "id": "lazRvaBIAH28",
        "outputId": "0469d829-5683-4c47-ff82-5a7a27fe2d6c"
      },
      "execution_count": 68,
      "outputs": [
        {
          "output_type": "execute_result",
          "data": {
            "text/plain": [
              "Index(['asked_price', 'final_price', 'pourcentage_difference', 'land_area',\n",
              "       'area', 'price_per_area', 'rooms', 'supplemental_area'],\n",
              "      dtype='object')"
            ]
          },
          "metadata": {},
          "execution_count": 68
        }
      ]
    },
    {
      "cell_type": "markdown",
      "source": [
        "Separating independent and dependent variable"
      ],
      "metadata": {
        "id": "Z2v49ECP_6u2"
      }
    },
    {
      "cell_type": "code",
      "source": [
        "X = df.drop('final_price', axis =1)\n",
        "y = df['final_price']"
      ],
      "metadata": {
        "id": "3nmL22vjN0av"
      },
      "execution_count": 72,
      "outputs": []
    },
    {
      "cell_type": "code",
      "source": [
        "X.isna().sum()"
      ],
      "metadata": {
        "colab": {
          "base_uri": "https://localhost:8080/"
        },
        "id": "fCzQsVAURXvW",
        "outputId": "a837c870-093c-437d-bc65-1d6ec1e84daa"
      },
      "execution_count": 78,
      "outputs": [
        {
          "output_type": "execute_result",
          "data": {
            "text/plain": [
              "asked_price                0\n",
              "pourcentage_difference     0\n",
              "land_area                  5\n",
              "area                       1\n",
              "price_per_area             1\n",
              "rooms                     10\n",
              "supplemental_area          0\n",
              "dtype: int64"
            ]
          },
          "metadata": {},
          "execution_count": 78
        }
      ]
    },
    {
      "cell_type": "code",
      "source": [
        "X.fillna(method= 'ffill', inplace=True)"
      ],
      "metadata": {
        "id": "eFoRssmnRhZU"
      },
      "execution_count": 79,
      "outputs": []
    },
    {
      "cell_type": "code",
      "source": [
        "X_train, X_test, y_train, y_test = train_test_split(X, y, test_size =0.4)"
      ],
      "metadata": {
        "id": "M32CfdVOGEUV"
      },
      "execution_count": 80,
      "outputs": []
    },
    {
      "cell_type": "code",
      "source": [
        "X_train.shape, y_train.shape"
      ],
      "metadata": {
        "colab": {
          "base_uri": "https://localhost:8080/"
        },
        "id": "BwazgtRERPMN",
        "outputId": "9bd73800-5b6f-4913-cdcd-1074037f879c"
      },
      "execution_count": 81,
      "outputs": [
        {
          "output_type": "execute_result",
          "data": {
            "text/plain": [
              "((300, 7), (300,))"
            ]
          },
          "metadata": {},
          "execution_count": 81
        }
      ]
    },
    {
      "cell_type": "code",
      "source": [
        "from sklearn import linear_model\n",
        "reg = linear_model.LinearRegression()\n",
        "reg.fit(X_train, y_train)"
      ],
      "metadata": {
        "colab": {
          "base_uri": "https://localhost:8080/"
        },
        "id": "5ILTwvduGSqS",
        "outputId": "9c13b333-de7d-414e-f9c8-a17fb8e61c13"
      },
      "execution_count": 82,
      "outputs": [
        {
          "output_type": "execute_result",
          "data": {
            "text/plain": [
              "LinearRegression()"
            ]
          },
          "metadata": {},
          "execution_count": 82
        }
      ]
    },
    {
      "cell_type": "markdown",
      "source": [
        "Regression coefficients"
      ],
      "metadata": {
        "id": "PKJOpyYlRsC7"
      }
    },
    {
      "cell_type": "code",
      "source": [
        "print('Coefficients:', reg.coef_)"
      ],
      "metadata": {
        "colab": {
          "base_uri": "https://localhost:8080/"
        },
        "id": "QANJ78jyPENB",
        "outputId": "dd78b4a3-535a-49d2-a1e5-a8c98d9bfb64"
      },
      "execution_count": 83,
      "outputs": [
        {
          "output_type": "stream",
          "name": "stdout",
          "text": [
            "Coefficients: [ 1.00257358e+00  8.59818292e+04 -1.74210680e+00  7.47663131e+01\n",
            "  4.20938964e+00  9.53225135e+03 -2.52418274e+03]\n"
          ]
        }
      ]
    },
    {
      "cell_type": "markdown",
      "source": [
        "variance score: 1 means perfect prediction"
      ],
      "metadata": {
        "id": "fMB40S48R67x"
      }
    },
    {
      "cell_type": "code",
      "source": [
        "print('Variance score: {}'.format(reg.score(X_test, y_test)))"
      ],
      "metadata": {
        "colab": {
          "base_uri": "https://localhost:8080/"
        },
        "id": "lh_HGjpuSXiR",
        "outputId": "1f76be8f-2bd4-4a87-e7ab-4e170ec999ae"
      },
      "execution_count": 84,
      "outputs": [
        {
          "output_type": "stream",
          "name": "stdout",
          "text": [
            "Variance score: 0.9759180823649167\n"
          ]
        }
      ]
    },
    {
      "cell_type": "markdown",
      "source": [
        "plot for residual error"
      ],
      "metadata": {
        "id": "v7p-g8xwS2og"
      }
    },
    {
      "cell_type": "code",
      "source": [
        "plt.style.use('fivethirtyeight')"
      ],
      "metadata": {
        "id": "cTLgIMo3S6jW"
      },
      "execution_count": 85,
      "outputs": []
    },
    {
      "cell_type": "markdown",
      "source": [
        "plotting residual errors in training data"
      ],
      "metadata": {
        "id": "dU5qJi4gTETA"
      }
    },
    {
      "cell_type": "code",
      "source": [
        "plt.scatter(reg.predict(X_train), reg.predict(X_train) - y_train,\n",
        "            color = \"green\", s = 10, label = 'Train data')\n",
        "  \n",
        "## plotting residual errors in test data\n",
        "plt.scatter(reg.predict(X_test), reg.predict(X_test) - y_test,\n",
        "            color = \"blue\", s = 10, label = 'Test data')\n",
        "  \n",
        "## plotting line for zero residual error\n",
        "plt.hlines(y = 0, xmin = 0, xmax = 50, linewidth = 2)\n",
        "  \n",
        "## plotting legend\n",
        "plt.legend(loc = 'upper right')\n",
        "  \n",
        "## plot title\n",
        "plt.title(\"Residual errors\")\n",
        "  \n",
        "## method call for showing the plot\n",
        "plt.show()"
      ],
      "metadata": {
        "colab": {
          "base_uri": "https://localhost:8080/",
          "height": 320
        },
        "id": "2O7viVDmTcqA",
        "outputId": "1bba264a-6ffe-47ce-b2c1-5d9a982daabc"
      },
      "execution_count": 87,
      "outputs": [
        {
          "output_type": "display_data",
          "data": {
            "text/plain": [
              "<Figure size 432x288 with 1 Axes>"
            ],
            "image/png": "[encoded data removed]"
          },
          "metadata": {}
        }
      ]
    },
    {
      "cell_type": "markdown",
      "source": [
        "Making predictions using the Decision Tree algorithm"
      ],
      "metadata": {
        "id": "79pdVMNpTw4X"
      }
    },
    {
      "cell_type": "code",
      "source": [
        "decision_model = DecisionTreeRegressor()\n",
        "decision_model.fit(X_train, y_train)\n",
        "predicted_decision_trees = decision_model.predict(X_test)\n",
        "print(\"Mean Absolute Error using Decision Trees:\", mean_absolute_error(y_test, predicted_decision_trees))\n",
        "print(decision_model.score(X_test, y_test))"
      ],
      "metadata": {
        "colab": {
          "base_uri": "https://localhost:8080/"
        },
        "id": "36E9EH-ZT9Hn",
        "outputId": "52f8e92b-1822-463e-e0f2-5e8f132a3915"
      },
      "execution_count": 88,
      "outputs": [
        {
          "output_type": "stream",
          "name": "stdout",
          "text": [
            "Mean Absolute Error using Decision Trees: 431310.0\n",
            "0.9651216577165026\n"
          ]
        }
      ]
    },
    {
      "cell_type": "markdown",
      "source": [
        "Making predictions using the Random Forest algorithm"
      ],
      "metadata": {
        "id": "ABx5feLCXbEl"
      }
    },
    {
      "cell_type": "code",
      "source": [
        "forest_model = RandomForestRegressor(n_estimators = 100, max_depth = 10)\n",
        "forest_model.fit(X_train, y_train)\n",
        "predicted_random_forest = forest_model.predict(X_test)\n",
        "print(\"Mean Absolute Error using Random Forest:\", mean_absolute_error(y_test, predicted_decision_trees)) \n",
        "print(forest_model.score(X_test, y_test))"
      ],
      "metadata": {
        "colab": {
          "base_uri": "https://localhost:8080/"
        },
        "id": "2NbTzpcCVIzH",
        "outputId": "47415814-eb56-438b-bada-2307efd257b5"
      },
      "execution_count": 89,
      "outputs": [
        {
          "output_type": "stream",
          "name": "stdout",
          "text": [
            "Mean Absolute Error using Random Forest: 431310.0\n",
            "0.9748834564046786\n"
          ]
        }
      ]
    },
    {
      "cell_type": "markdown",
      "source": [
        "Making predictions using the XGBoost algorithm"
      ],
      "metadata": {
        "id": "VhkDb_MDWlHD"
      }
    },
    {
      "cell_type": "code",
      "source": [
        "xg_model = XGBRegressor(n_estimators = 100)\n",
        "xg_model.fit(X_train, y_train)\n",
        "predicted_XGBoost = xg_model.predict(X_test)\n",
        "\n",
        "print(\"Mean Absolute Error using XGBoost:\", mean_absolute_error(y_test, predicted_XGBoost))\n",
        "print(xg_model.score(X_test, y_test))"
      ],
      "metadata": {
        "colab": {
          "base_uri": "https://localhost:8080/"
        },
        "id": "thnDab8wWa4R",
        "outputId": "9ddea535-bda1-480f-a3e2-a3ff499319df"
      },
      "execution_count": 90,
      "outputs": [
        {
          "output_type": "stream",
          "name": "stdout",
          "text": [
            "[14:57:28] WARNING: /workspace/src/objective/regression_obj.cu:152: reg:linear is now deprecated in favor of reg:squarederror.\n",
            "Mean Absolute Error using XGBoost: 355064.725\n",
            "0.9742582008290047\n"
          ]
        }
      ]
    },
    {
      "cell_type": "code",
      "source": [
        ""
      ],
      "metadata": {
        "id": "aAc0Y4dCXVpf"
      },
      "execution_count": null,
      "outputs": []
    }
  ]
}